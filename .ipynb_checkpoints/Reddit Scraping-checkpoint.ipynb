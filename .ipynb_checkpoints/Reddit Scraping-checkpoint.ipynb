{
 "cells": [
  {
   "cell_type": "code",
   "execution_count": 2,
   "metadata": {},
   "outputs": [],
   "source": [
    "import praw"
   ]
  },
  {
   "cell_type": "code",
   "execution_count": 5,
   "metadata": {},
   "outputs": [],
   "source": [
    "reddit = praw.Reddit(client_id='YslEaAx56ffJR4OuFpXqog', client_secret='Yv06nldAu4OipGfI2RdpmQIWoruppg', user_agent='Web Scraping')"
   ]
  },
  {
   "cell_type": "code",
   "execution_count": 32,
   "metadata": {},
   "outputs": [],
   "source": [
    "top_posts = reddit.subreddit('Cornell').top(limit=1000000)"
   ]
  },
  {
   "cell_type": "code",
   "execution_count": 39,
   "metadata": {},
   "outputs": [],
   "source": [
    "subreddit = reddit.subreddit('Cornell')\n"
   ]
  },
  {
   "cell_type": "code",
   "execution_count": 40,
   "metadata": {},
   "outputs": [
    {
     "name": "stdout",
     "output_type": "stream",
     "text": [
      "cs 1110 lab section\n",
      "do cs 1110 lab sections take attendance? or do we credit as long as we complete the labs\n",
      "CS 1110 Grade\n",
      "Does anyone who previously took CS 1110 and received an A/A- care to share what their exam grades were? I know that the professor assigns grades based on a variety of factors, but I just wanted to have something to go off of :) Thank you!\n",
      "The CS 1110 Project A7 is going swimmingly\n",
      "&#x200B;\n",
      "\n",
      "[This is the only way to game.](https://preview.redd.it/mx1jbsxoql281.png?width=997&format=png&auto=webp&s=09c303fac0fe69e9a4d70551a12544df0a28b58d)\n",
      "\n",
      "PS: Professor White is the best professor at Cornell.\n",
      "cs 1110 difficulty\n",
      "just wondering how everyone is faring in this class. I came into this class w no programming experience and I found all the work up to the drop deadline to be easy as hell. and then right after that ended we had to learn recursion and now classes and I barely get recursion and classes do not click w me at all. I couldn't do part 5 of assignment 4 and now I can't understand the labs. it beginning to overwhelm me :/\n",
      "CS 1110 Final - Status Quo\n",
      "No change unless we go deeper into defcorn.  Good luck all!\n",
      "cs 1110 lab section\n",
      "do cs 1110 lab sections take attendance? or do we credit as long as we complete the labs\n",
      "CS 1110 Grade\n",
      "Does anyone who previously took CS 1110 and received an A/A- care to share what their exam grades were? I know that the professor assigns grades based on a variety of factors, but I just wanted to have something to go off of :) Thank you!\n",
      "The CS 1110 Project A7 is going swimmingly\n",
      "&#x200B;\n",
      "\n",
      "[This is the only way to game.](https://preview.redd.it/mx1jbsxoql281.png?width=997&format=png&auto=webp&s=09c303fac0fe69e9a4d70551a12544df0a28b58d)\n",
      "\n",
      "PS: Professor White is the best professor at Cornell.\n",
      "CS 1110 Final - Status Quo\n",
      "No change unless we go deeper into defcorn.  Good luck all!\n",
      "cs 1110 difficulty\n",
      "just wondering how everyone is faring in this class. I came into this class w no programming experience and I found all the work up to the drop deadline to be easy as hell. and then right after that ended we had to learn recursion and now classes and I barely get recursion and classes do not click w me at all. I couldn't do part 5 of assignment 4 and now I can't understand the labs. it beginning to overwhelm me :/\n",
      "Walker White - The Final Boss (space invaders extra feature)\n",
      "\n",
      "Walker White has an entire Safari bookmark just for ‘BBQ’\n",
      "\n",
      "Evil Walker White\n",
      "&#x200B;\n",
      "\n",
      "https://preview.redd.it/s2saaz1yzoy71.jpg?width=500&format=pjpg&auto=webp&s=66ec44dab6f3327102eca2b6e5a22e4ae6e8848f\n",
      "Should I wait until sophomore to take CS1110 for Walker White?\n",
      "I am an environmental engineering major and just heard some good stuff about Prof. Walker White. But kinda feel like it's a bit late to take intro cs in sophomore? \n",
      "\n",
      "Is it worth it? or should I just go with the spring professor?\n",
      "Does Walker White have a British Baking doppelgänger?\n",
      "\n",
      "cs 1110 lab section\n",
      "do cs 1110 lab sections take attendance? or do we credit as long as we complete the labs\n",
      "CS 1110 Grade\n",
      "Does anyone who previously took CS 1110 and received an A/A- care to share what their exam grades were? I know that the professor assigns grades based on a variety of factors, but I just wanted to have something to go off of :) Thank you!\n",
      "The CS 1110 Project A7 is going swimmingly\n",
      "&#x200B;\n",
      "\n",
      "[This is the only way to game.](https://preview.redd.it/mx1jbsxoql281.png?width=997&format=png&auto=webp&s=09c303fac0fe69e9a4d70551a12544df0a28b58d)\n",
      "\n",
      "PS: Professor White is the best professor at Cornell.\n",
      "cs 1110 difficulty\n",
      "just wondering how everyone is faring in this class. I came into this class w no programming experience and I found all the work up to the drop deadline to be easy as hell. and then right after that ended we had to learn recursion and now classes and I barely get recursion and classes do not click w me at all. I couldn't do part 5 of assignment 4 and now I can't understand the labs. it beginning to overwhelm me :/\n",
      "CS 1110 Final - Status Quo\n",
      "No change unless we go deeper into defcorn.  Good luck all!\n",
      "Anyone looking for a parter for CS1110, Assignment 1?\n",
      "I missed the quiz, does anyone who is currently looking for parter still need one?\n",
      "How do I study for CS1110?\n",
      "This is my first time taking CS, and idk writing notes just seems to be a weird way to study CS to me. How do u usually study for the tests?\n",
      "Should I have a partner in CS1110?\n",
      "I would learn more without one but is saving time more worth it?\n",
      "I have no experience in CS.\n",
      "cs1110 Command Line\n",
      "That feeling when you are reenacting cs1110 and are zooming through PowerShell, only to find out that your data paths now all go through user\\\\OneDrive\\\\.\n",
      "\n",
      "Really made me think that my files no longer existed.\n",
      "Back again to say how absolutely fucked I am for the cs1110 final\n",
      "i feel like i lost all my past knowledge (even from prelim 2 which wasn't that long ago?!). Even after reviewing I'm unable to do for-loops and recursion as I was able before 💀\n",
      "\n",
      "also wtf is that sorting nonsense\n",
      "\n",
      "im so fucked.\n",
      "\n",
      "knowledge leaking out of my brain as i speak\n"
     ]
    }
   ],
   "source": [
    "phrases = [\"CS 1110\", \"CS_1110\", \"Walker White\", 'cs 1110', 'cs1110']\n",
    "\n",
    "for phrase in phrases:\n",
    "    searchedPosts = subreddit.search(phrase, limit = 5)\n",
    "\n",
    "    for post in searchedPosts:\n",
    "        print(post.title)\n",
    "        print(post.selftext)"
   ]
  },
  {
   "cell_type": "code",
   "execution_count": null,
   "metadata": {},
   "outputs": [],
   "source": []
  }
 ],
 "metadata": {
  "kernelspec": {
   "display_name": "Python 3",
   "language": "python",
   "name": "python3"
  },
  "language_info": {
   "codemirror_mode": {
    "name": "ipython",
    "version": 3
   },
   "file_extension": ".py",
   "mimetype": "text/x-python",
   "name": "python",
   "nbconvert_exporter": "python",
   "pygments_lexer": "ipython3",
   "version": "3.8.3"
  }
 },
 "nbformat": 4,
 "nbformat_minor": 4
}
