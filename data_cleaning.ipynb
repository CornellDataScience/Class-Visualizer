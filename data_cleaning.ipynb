{
 "cells": [
  {
   "cell_type": "code",
   "execution_count": 1,
   "metadata": {},
   "outputs": [],
   "source": [
    "import pandas as pd\n",
    "data_sp = pd.read_csv('FullerData_CUReviews.csv')\n",
    "data_fa = pd.read_csv('FullerData_CUReviews_FA22.csv')"
   ]
  },
  {
   "cell_type": "code",
   "execution_count": 10,
   "metadata": {},
   "outputs": [],
   "source": [
    "data_sp['CU_Reviews_Difficulty'] = round(data_sp['CU_Reviews_Difficulty'], 2)\n",
    "data_sp['CU_Reviews_Rating'] = round(data_sp['CU_Reviews_Rating'], 2)\n",
    "data_sp['CU_Reviews_Workload'] = round(data_sp['CU_Reviews_Workload'], 2)\n",
    "\n",
    "data_fa['CU_Reviews_Difficulty'] = round(data_fa['CU_Reviews_Difficulty'], 2)\n",
    "data_fa['CU_Reviews_Rating'] = round(data_fa['CU_Reviews_Rating'], 2)\n",
    "data_fa['CU_Reviews_Workload'] = round(data_fa['CU_Reviews_Workload'], 2)"
   ]
  },
  {
   "cell_type": "code",
   "execution_count": 78,
   "metadata": {},
   "outputs": [],
   "source": [
    "data_fa = data_fa.dropna(subset=['Number'])\n",
    "data_sp = data_sp.dropna(subset=['Number'])"
   ]
  },
  {
   "cell_type": "code",
   "execution_count": 79,
   "metadata": {},
   "outputs": [
    {
     "name": "stderr",
     "output_type": "stream",
     "text": [
      "<ipython-input-79-56c10596cfa3>:2: SettingWithCopyWarning: \n",
      "A value is trying to be set on a copy of a slice from a DataFrame.\n",
      "Try using .loc[row_indexer,col_indexer] = value instead\n",
      "\n",
      "See the caveats in the documentation: https://pandas.pydata.org/pandas-docs/stable/user_guide/indexing.html#returning-a-view-versus-a-copy\n",
      "  data_sp['Number'] = data_sp['Number'].astype(int)\n"
     ]
    }
   ],
   "source": [
    "data_fa['Number'] = data_fa['Number'].astype(int)\n",
    "data_sp['Number'] = data_sp['Number'].astype(int)"
   ]
  },
  {
   "cell_type": "code",
   "execution_count": 83,
   "metadata": {},
   "outputs": [],
   "source": [
    "data_sp.to_csv('FullerData_CUReviews.csv')\n",
    "data_fa.to_csv('FullerData_CUReviews_FA22.csv')"
   ]
  },
  {
   "cell_type": "code",
   "execution_count": null,
   "metadata": {},
   "outputs": [],
   "source": []
  }
 ],
 "metadata": {
  "kernelspec": {
   "display_name": "Python 3",
   "language": "python",
   "name": "python3"
  },
  "language_info": {
   "codemirror_mode": {
    "name": "ipython",
    "version": 3
   },
   "file_extension": ".py",
   "mimetype": "text/x-python",
   "name": "python",
   "nbconvert_exporter": "python",
   "pygments_lexer": "ipython3",
   "version": "3.8.5"
  }
 },
 "nbformat": 4,
 "nbformat_minor": 4
}
