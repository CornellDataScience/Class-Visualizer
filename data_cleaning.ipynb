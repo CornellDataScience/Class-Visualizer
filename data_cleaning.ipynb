{
 "cells": [
  {
   "cell_type": "code",
   "execution_count": 1,
   "metadata": {},
   "outputs": [],
   "source": [
    "import pandas as pd\n",
    "# data_sp = pd.read_csv('FullerData_CUReviews.csv')\n",
    "# data_fa = pd.read_csv('FullerData_CUReviews_FA22.csv')\n",
    "data_sp23 = pd.read_csv('FullerData_CUReviews_SP23.csv')"
   ]
  },
  {
   "cell_type": "code",
   "execution_count": 2,
   "metadata": {},
   "outputs": [],
   "source": [
    "# data_sp['CU_Reviews_Difficulty'] = round(data_sp['CU_Reviews_Difficulty'], 2)\n",
    "# data_sp['CU_Reviews_Rating'] = round(data_sp['CU_Reviews_Rating'], 2)\n",
    "# data_sp['CU_Reviews_Workload'] = round(data_sp['CU_Reviews_Workload'], 2)\n",
    "\n",
    "# data_fa['CU_Reviews_Difficulty'] = round(data_fa['CU_Reviews_Difficulty'], 2)\n",
    "# data_fa['CU_Reviews_Rating'] = round(data_fa['CU_Reviews_Rating'], 2)\n",
    "# data_fa['CU_Reviews_Workload'] = round(data_fa['CU_Reviews_Workload'], 2)\n",
    "data_sp23['CU_Reviews_Difficulty'] = round(data_sp23['CU_Reviews_Difficulty'], 2)\n",
    "data_sp23['CU_Reviews_Rating'] = round(data_sp23['CU_Reviews_Rating'], 2)\n",
    "data_sp23['CU_Reviews_Workload'] = round(data_sp23['CU_Reviews_Workload'], 2)"
   ]
  },
  {
   "cell_type": "code",
   "execution_count": 3,
   "metadata": {},
   "outputs": [],
   "source": [
    "data_sp23 = data_sp23.dropna(subset=['Number'])\n",
    "# data_sp = data_sp.dropna(subset=['Number'])"
   ]
  },
  {
   "cell_type": "code",
   "execution_count": 4,
   "metadata": {},
   "outputs": [],
   "source": [
    "# data_fa['Number'] = data_fa['Number'].astype(int)\n",
    "data_sp23['Number'] = data_sp23['Number'].astype(int)"
   ]
  },
  {
   "cell_type": "code",
   "execution_count": 5,
   "metadata": {},
   "outputs": [],
   "source": [
    "# data_sp.to_csv('FullerData_CUReviews.csv')\n",
    "data_sp23.to_csv('FullerData_CUReviews_SP23.csv') #already ran and overwrote"
   ]
  },
  {
   "cell_type": "code",
   "execution_count": null,
   "metadata": {},
   "outputs": [],
   "source": []
  }
 ],
 "metadata": {
  "kernelspec": {
   "display_name": "Python 3",
   "language": "python",
   "name": "python3"
  },
  "language_info": {
   "codemirror_mode": {
    "name": "ipython",
    "version": 3
   },
   "file_extension": ".py",
   "mimetype": "text/x-python",
   "name": "python",
   "nbconvert_exporter": "python",
   "pygments_lexer": "ipython3",
   "version": "3.8.5"
  }
 },
 "nbformat": 4,
 "nbformat_minor": 4
}
