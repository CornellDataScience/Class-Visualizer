{
 "cells": [
  {
   "cell_type": "code",
   "execution_count": 1,
   "metadata": {},
   "outputs": [],
   "source": [
    "import pandas as pd\n"
   ]
  },
  {
   "cell_type": "code",
   "execution_count": 2,
   "metadata": {},
   "outputs": [],
   "source": [
    "# data = pd.read_csv(\"FullerData_CUReviews.csv\")\n",
    "# data2 = pd.read_csv(\"FullerData_CUReviews_FA22.csv\")\n",
    "data2 = pd.read_csv(\"FullerData_CUReviews_SP23.csv\")"
   ]
  },
  {
   "cell_type": "code",
   "execution_count": 3,
   "metadata": {},
   "outputs": [
    {
     "data": {
      "text/plain": [
       "Index(['Unnamed: 0', 'Unnamed: 0.1', 'Dept', 'Number', 'Course_Name',\n",
       "       'Professor', 'Start_Time', 'End_Time', 'Location', 'Description',\n",
       "       'Pre/coreqs', 'Offered', 'Dept + Number', 'Median Grade',\n",
       "       'Semester (Ex: SP21)', 'Semester', 'Pre/Coreqs_Clean', 'ID', 'Name',\n",
       "       'Number_of_Ratings', 'Average_Rating', 'Difficulty', 'Take Again',\n",
       "       'CU_Reviews_Difficulty', 'CU_Reviews_Rating', 'CU_Reviews_Workload'],\n",
       "      dtype='object')"
      ]
     },
     "execution_count": 3,
     "metadata": {},
     "output_type": "execute_result"
    }
   ],
   "source": [
    "data2.columns"
   ]
  },
  {
   "cell_type": "code",
   "execution_count": 13,
   "metadata": {},
   "outputs": [],
   "source": [
    "data2=data2.rename(columns={\"Professor_x\": \"Professor\"})\n"
   ]
  },
  {
   "cell_type": "code",
   "execution_count": 4,
   "metadata": {},
   "outputs": [],
   "source": [
    "# data = data[[ 'Dept', 'Number', 'Course_Name', 'Professor',\n",
    "#        'Start_Time', 'End_Time',  'Description', 'Pre/coreqs',\n",
    "#         'Dept + Number', 'Median Grade', 'Semester (Ex: SP21)',\n",
    "#        'Semester', 'Pre/Coreqs_Clean', 'Number_of_Ratings',\n",
    "#        'Average_Rating', 'Difficulty', 'CU_Reviews_Difficulty',\n",
    "#        'CU_Reviews_Rating', 'CU_Reviews_Workload']]\n",
    "data2=data2[['Dept', 'Number', 'Course_Name', 'Professor',\n",
    "       'Start_Time', 'End_Time', 'Description', 'Pre/coreqs',\n",
    "        'Dept + Number',        'Median Grade', 'Semester', \n",
    "       'Semester', 'Pre/Coreqs_Clean',  'Number_of_Ratings',\n",
    "       'Average_Rating', 'Difficulty',  'CU_Reviews_Difficulty',\n",
    "       'CU_Reviews_Rating', 'CU_Reviews_Workload']]"
   ]
  },
  {
   "cell_type": "code",
   "execution_count": 5,
   "metadata": {},
   "outputs": [
    {
     "data": {
      "text/plain": [
       "Index(['Dept', 'Number', 'Course_Name', 'Professor', 'Start_Time', 'End_Time',\n",
       "       'Description', 'Pre/coreqs', 'Dept + Number', 'Median Grade',\n",
       "       'Semester', 'Semester', 'Pre/Coreqs_Clean', 'Number_of_Ratings',\n",
       "       'Average_Rating', 'Difficulty', 'CU_Reviews_Difficulty',\n",
       "       'CU_Reviews_Rating', 'CU_Reviews_Workload'],\n",
       "      dtype='object')"
      ]
     },
     "execution_count": 5,
     "metadata": {},
     "output_type": "execute_result"
    }
   ],
   "source": [
    "data2.columns"
   ]
  },
  {
   "cell_type": "code",
   "execution_count": 23,
   "metadata": {},
   "outputs": [
    {
     "data": {
      "text/plain": [
       "Index(['Dept', 'Number', 'Course_Name', 'Professor', 'Start_Time', 'End_Time',\n",
       "       'Description', 'Pre/coreqs', 'Dept + Number', 'Median Grade',\n",
       "       'Semester (Ex: SP21)', 'Semester', 'Pre/Coreqs_Clean',\n",
       "       'Number_of_Ratings', 'Average_Rating', 'Difficulty',\n",
       "       'CU_Reviews_Difficulty', 'CU_Reviews_Rating', 'CU_Reviews_Workload'],\n",
       "      dtype='object')"
      ]
     },
     "execution_count": 23,
     "metadata": {},
     "output_type": "execute_result"
    }
   ],
   "source": [
    "data.columns"
   ]
  },
  {
   "cell_type": "code",
   "execution_count": 6,
   "metadata": {},
   "outputs": [],
   "source": [
    "#data.to_csv(\"FullerData_CUReviews_shortened.csv\")\n",
    "data2.to_csv(\"FullerData_CUReviews_SP23_shortened.csv\")"
   ]
  },
  {
   "cell_type": "code",
   "execution_count": null,
   "metadata": {},
   "outputs": [],
   "source": []
  }
 ],
 "metadata": {
  "kernelspec": {
   "display_name": "Python 3",
   "language": "python",
   "name": "python3"
  },
  "language_info": {
   "codemirror_mode": {
    "name": "ipython",
    "version": 3
   },
   "file_extension": ".py",
   "mimetype": "text/x-python",
   "name": "python",
   "nbconvert_exporter": "python",
   "pygments_lexer": "ipython3",
   "version": "3.8.5"
  }
 },
 "nbformat": 4,
 "nbformat_minor": 4
}
