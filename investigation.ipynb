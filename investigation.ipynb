{
 "cells": [
  {
   "cell_type": "code",
   "execution_count": 1,
   "metadata": {},
   "outputs": [],
   "source": [
    "import pandas as pd\n",
    "import numpy as np"
   ]
  },
  {
   "cell_type": "code",
   "execution_count": 2,
   "metadata": {},
   "outputs": [],
   "source": [
    "from urllib.request import urlopen\n",
    "  \n",
    "# import json\n",
    "import json\n",
    "# store the URL in url as \n",
    "# parameter for urlopen\n",
    "url = \"https://classes.cornell.edu/api/2.0/search/classes.json?roster=SP22&subject=CS\" # get SP 22 CS classes\n",
    "  \n",
    "# store the response of URL\n",
    "response = urlopen(url)\n",
    "  \n",
    "# storing the JSON response \n",
    "# from url in data\n",
    "data_json = json.loads(response.read())\n"
   ]
  },
  {
   "cell_type": "code",
   "execution_count": 3,
   "metadata": {},
   "outputs": [],
   "source": [
    "classes = data_json['data']['classes']"
   ]
  },
  {
   "cell_type": "code",
   "execution_count": 4,
   "metadata": {},
   "outputs": [],
   "source": [
    "url2 = 'https://classes.cornell.edu/api/2.0/config/subjects.json?roster=SP22'\n",
    "response2 = urlopen(url2)\n",
    "subjects_json = json.loads(response2.read())"
   ]
  },
  {
   "cell_type": "code",
   "execution_count": 5,
   "metadata": {},
   "outputs": [],
   "source": [
    "subject_list = []\n",
    "for i in subjects_json['data']['subjects']:\n",
    "    subject_list.append(i['value'])\n"
   ]
  },
  {
   "cell_type": "markdown",
   "metadata": {},
   "source": [
    "{'strm': 2811, 'crseId': 350682, 'crseOfferNbr': 1, 'subject': 'AMST', 'catalogNbr': '3990', 'titleShort': 'Readings in American Studies', 'titleLong': 'Readings in American Studies', 'enrollGroups': [{'classSections': [{'ssrComponent': 'IND', 'ssrComponentLong': 'Independent Study', 'section': '601', 'classNbr': 3943, 'meetings': [{'classMtgNbr': 1, 'timeStart': '', 'timeEnd': '', 'startDt': '01/24/2022', 'endDt': '05/10/2022', 'instructors': [], 'pattern': '', 'facilityDescr': None, 'bldgDescr': None, 'facilityDescrshort': None, 'meetingTopicDescription': ''}], 'notes': [], 'campus': 'MAIN', 'campusDescr': 'Ithaca', 'location': 'ITH', 'locationDescr': 'Ithaca, NY (Main Campus)', 'startDt': '01/24/2022', 'endDt': '05/21/2022', 'addConsent': 'I', 'addConsentDescr': 'Instructor Consent Required', 'isComponentGraded': True, 'instructionMode': 'IS', 'instrModeDescrshort': 'Indp Stds', 'instrModeDescr': 'Independent Studies', 'topicDescription': '', 'exploreCriteriaIds': [], 'materials': []}], 'unitsMinimum': 1, 'unitsMaximum': 4, 'componentsOptional': [], 'componentsRequired': ['IND'], 'gradingBasis': 'OPT', 'gradingBasisShort': 'Stdnt Opt', 'gradingBasisLong': 'Letter or S/U grades', 'simpleCombinations': [], 'sessionCode': '1', 'sessionBeginDt': '01/24/2022', 'sessionEndDt': '05/21/2022', 'sessionLong': 'Regular Academic Session', 'exploreCriteriaIds': []}], 'description': 'Individualized readings for junior and senior students. Topics, requirements, and credit hours will be determined in consultation between the student and the supervising faculty member.', 'catalogBreadth': '', 'catalogDistr': '', 'catalogLang': '', 'catalogForbiddenOverlaps': '', 'catalogAttribute': '', 'catalogWhenOffered': 'Fall, Spring.', 'catalogComments': '', 'catalogPrereqCoreq': '', 'catalogFee': '', 'catalogSatisfiesReq': '', 'catalogPermission': 'To apply for independent study, please complete the form at data.arts.cornell.edu/as-stus/.', 'catalogCourseSubfield': '', 'catalogOutcomes': None, 'acadCareer': 'UG', 'acadGroup': 'AS', 'exploreCriteriaIds': []}"
   ]
  },
  {
   "cell_type": "code",
   "execution_count": 25,
   "metadata": {},
   "outputs": [
    {
     "name": "stdout",
     "output_type": "stream",
     "text": [
      "1869\n",
      "{'strm': 2811, 'crseId': 372420, 'crseOfferNbr': 2, 'subject': 'FDSC', 'catalogNbr': '6710', 'titleShort': 'Winemaking II Laboratory', 'titleLong': 'Winemaking Theory and Practice II Laboratory', 'enrollGroups': [{'classSections': [{'ssrComponent': 'LAB', 'ssrComponentLong': 'Laboratory', 'section': '401', 'classNbr': 20062, 'meetings': [], 'notes': [], 'campus': 'MAIN', 'campusDescr': 'Ithaca', 'location': 'ITH', 'locationDescr': 'Ithaca, NY (Main Campus)', 'startDt': '01/24/2022', 'endDt': '05/21/2022', 'addConsent': 'N', 'addConsentDescr': 'No Special Consent Required', 'isComponentGraded': True, 'instructionMode': 'P', 'instrModeDescrshort': 'In Person', 'instrModeDescr': 'In Person', 'topicDescription': '', 'exploreCriteriaIds': [], 'materials': []}], 'unitsMinimum': 2, 'unitsMaximum': 2, 'componentsOptional': [], 'componentsRequired': ['LAB'], 'gradingBasis': 'GRD', 'gradingBasisShort': 'Graded', 'gradingBasisLong': 'Letter grades only', 'simpleCombinations': [], 'sessionCode': '1', 'sessionBeginDt': '01/24/2022', 'sessionEndDt': '05/21/2022', 'sessionLong': 'Regular Academic Session', 'exploreCriteriaIds': []}], 'description': 'In the laboratory of part II of the Winemaking Theory and Practice courses, students continue working with wines produced in the preceding fall term, focusing on aging options, stabilization, fining, and packaging. The laboratory also provides advanced training in wine chemical and sensory analysis.', 'catalogBreadth': '', 'catalogDistr': '', 'catalogLang': '', 'catalogForbiddenOverlaps': '', 'catalogAttribute': '', 'catalogWhenOffered': 'Spring.', 'catalogComments': '', 'catalogPrereqCoreq': 'Prerequisite or corequisite: VIEN 4700/FDSC 4700.', 'catalogFee': '', 'catalogSatisfiesReq': '', 'catalogPermission': 'Enrollment preference given to: Viticulture and Enology majors.', 'catalogCourseSubfield': '', 'catalogOutcomes': ['Develop knowledge of the chemical, microbiological, and physical nature of post fermentation wines.', 'Identify and describe wine processing techniques used from post-fermentation through bottling.', 'Develop and test personal sensory skills in describing the aromas and flavors of wine.', 'Choose, make, and apply sensory descriptive standards to different wine styles or varietals.', 'Identify and differentiate wine equipment and materials, including storage and packaging options.', 'Appreciate the administrative and regulatory challenges related to winemaking.', 'Access and navigate winemaking regulations, both domestic and international.', 'Submit a wine label which satisfies TTB Certificate of Label Approval (\"COLA\") and local regulations.', 'Determine suitable packaging materials and package finished wine products.'], 'acadCareer': 'GR', 'acadGroup': 'AG', 'exploreCriteriaIds': []}\n",
      "\n",
      "\n",
      "list index out of range\n",
      "\n",
      "\n",
      "2857\n",
      "{'strm': 2811, 'crseId': 351012, 'crseOfferNbr': 1, 'subject': 'LSP', 'catalogNbr': '6210', 'titleShort': 'Grad Student Independent Study', 'titleLong': 'Graduate Student Independent Study', 'enrollGroups': [{'classSections': [{'ssrComponent': 'IND', 'ssrComponentLong': 'Independent Study', 'section': '601', 'classNbr': 5249, 'meetings': [], 'notes': [{'classNotesSeq': 1, 'descrlong': 'Guided independent study.'}], 'campus': 'MAIN', 'campusDescr': 'Ithaca', 'location': 'ITH', 'locationDescr': 'Ithaca, NY (Main Campus)', 'startDt': '01/24/2022', 'endDt': '05/21/2022', 'addConsent': 'I', 'addConsentDescr': 'Instructor Consent Required', 'isComponentGraded': True, 'instructionMode': 'IS', 'instrModeDescrshort': 'Indp Stds', 'instrModeDescr': 'Independent Studies', 'topicDescription': '', 'exploreCriteriaIds': [], 'materials': []}], 'unitsMinimum': 2, 'unitsMaximum': 4, 'componentsOptional': [], 'componentsRequired': ['IND'], 'gradingBasis': 'OPT', 'gradingBasisShort': 'Stdnt Opt', 'gradingBasisLong': 'Letter or S/U grades', 'simpleCombinations': [], 'sessionCode': '1', 'sessionBeginDt': '01/24/2022', 'sessionEndDt': '05/21/2022', 'sessionLong': 'Regular Academic Session', 'exploreCriteriaIds': []}, {'classSections': [{'ssrComponent': 'IND', 'ssrComponentLong': 'Independent Study', 'section': '607', 'classNbr': 5558, 'meetings': [{'classMtgNbr': 1, 'timeStart': '', 'timeEnd': '', 'startDt': '01/24/2022', 'endDt': '05/10/2022', 'instructors': [{'instrAssignSeq': 5, 'netid': 'sig35', 'firstName': 'Sergio', 'middleName': 'I', 'lastName': 'Garcia-Rios'}], 'pattern': '', 'facilityDescr': None, 'bldgDescr': None, 'facilityDescrshort': None, 'meetingTopicDescription': ''}], 'notes': [], 'campus': 'MAIN', 'campusDescr': 'Ithaca', 'location': 'ITH', 'locationDescr': 'Ithaca, NY (Main Campus)', 'startDt': '01/24/2022', 'endDt': '05/21/2022', 'addConsent': 'I', 'addConsentDescr': 'Instructor Consent Required', 'isComponentGraded': True, 'instructionMode': 'IS', 'instrModeDescrshort': 'Indp Stds', 'instrModeDescr': 'Independent Studies', 'topicDescription': '', 'exploreCriteriaIds': [], 'materials': []}], 'unitsMinimum': 2, 'unitsMaximum': 4, 'componentsOptional': [], 'componentsRequired': ['IND'], 'gradingBasis': 'OPT', 'gradingBasisShort': 'Stdnt Opt', 'gradingBasisLong': 'Letter or S/U grades', 'simpleCombinations': [], 'sessionCode': '1', 'sessionBeginDt': '01/24/2022', 'sessionEndDt': '05/21/2022', 'sessionLong': 'Regular Academic Session', 'exploreCriteriaIds': []}, {'classSections': [{'ssrComponent': 'IND', 'ssrComponentLong': 'Independent Study', 'section': '611', 'classNbr': 5756, 'meetings': [{'classMtgNbr': 1, 'timeStart': '', 'timeEnd': '', 'startDt': '01/24/2022', 'endDt': '05/10/2022', 'instructors': [{'instrAssignSeq': 1, 'netid': 'dac9', 'firstName': 'Debra', 'middleName': 'Ann', 'lastName': 'Castillo'}], 'pattern': '', 'facilityDescr': None, 'bldgDescr': None, 'facilityDescrshort': None, 'meetingTopicDescription': ''}], 'notes': [], 'campus': 'MAIN', 'campusDescr': 'Ithaca', 'location': 'ITH', 'locationDescr': 'Ithaca, NY (Main Campus)', 'startDt': '01/24/2022', 'endDt': '05/21/2022', 'addConsent': 'I', 'addConsentDescr': 'Instructor Consent Required', 'isComponentGraded': True, 'instructionMode': 'IS', 'instrModeDescrshort': 'Indp Stds', 'instrModeDescr': 'Independent Studies', 'topicDescription': '', 'exploreCriteriaIds': [], 'materials': []}], 'unitsMinimum': 2, 'unitsMaximum': 4, 'componentsOptional': [], 'componentsRequired': ['IND'], 'gradingBasis': 'OPT', 'gradingBasisShort': 'Stdnt Opt', 'gradingBasisLong': 'Letter or S/U grades', 'simpleCombinations': [], 'sessionCode': '1', 'sessionBeginDt': '01/24/2022', 'sessionEndDt': '05/21/2022', 'sessionLong': 'Regular Academic Session', 'exploreCriteriaIds': []}], 'description': 'Guided independent study.', 'catalogBreadth': '', 'catalogDistr': '', 'catalogLang': '', 'catalogForbiddenOverlaps': '', 'catalogAttribute': '', 'catalogWhenOffered': 'Fall, Spring.', 'catalogComments': '', 'catalogPrereqCoreq': '', 'catalogFee': '', 'catalogSatisfiesReq': '', 'catalogPermission': '', 'catalogCourseSubfield': '', 'catalogOutcomes': None, 'acadCareer': 'GR', 'acadGroup': 'AS', 'exploreCriteriaIds': []}\n",
      "\n",
      "\n",
      "list index out of range\n",
      "\n",
      "\n",
      "2\n"
     ]
    }
   ],
   "source": [
    "df = []\n",
    "missedClasses = 0\n",
    "cntr = 0\n",
    "for subject in subject_list: #, \"ECON\"]\"ENGL\", \"PHIL\"]:\n",
    "    url = f\"https://classes.cornell.edu/api/2.0/search/classes.json?roster=SP22&subject={subject}\"\n",
    "    response = urlopen(url)\n",
    "\n",
    "    data_json = json.loads(response.read())\n",
    "\n",
    "    classes = data_json['data']['classes']\n",
    "\n",
    "    for class_ in classes:\n",
    "        try:\n",
    "            obj = class_['enrollGroups'][0]['classSections'][0]['meetings'][0]\n",
    "            try:\n",
    "                obj2 = obj['instructors'][0]\n",
    "                prof = obj2['firstName'].strip() + ' ' + obj2['lastName'].strip()\n",
    "            except:\n",
    "                prof = \"\"\n",
    "            #print(obj)\n",
    "\n",
    "            startTime = obj['timeStart']\n",
    "            endTime = obj['timeEnd']\n",
    "            location = obj['facilityDescr']\n",
    "            #x = [class_['subject'] , class_['catalogNbr'] , class_['titleLong'], obj2['firstName'].strip() + ' ' + obj2['lastName'].strip(), startTime, endTime, location, class_['description'], class_['catalogPrereqCoreq'], class_['catalogWhenOffered']]\n",
    "            x = [class_['subject'] , class_['catalogNbr'] , class_['titleLong'], prof, startTime, endTime, location, class_['description'], class_['catalogPrereqCoreq'], class_['catalogWhenOffered']]\n",
    "\n",
    "            df.append(x)\n",
    "        except Exception as e:\n",
    "            print(cntr)\n",
    "            print(class_)\n",
    "            print('\\n')\n",
    "            print(e)\n",
    "            print('\\n')\n",
    "            missedClasses += 1\n",
    "        cntr +=1\n",
    "print(missedClasses)"
   ]
  },
  {
   "cell_type": "code",
   "execution_count": null,
   "metadata": {},
   "outputs": [],
   "source": []
  }
 ],
 "metadata": {
  "kernelspec": {
   "display_name": "Python 3",
   "language": "python",
   "name": "python3"
  },
  "language_info": {
   "codemirror_mode": {
    "name": "ipython",
    "version": 3
   },
   "file_extension": ".py",
   "mimetype": "text/x-python",
   "name": "python",
   "nbconvert_exporter": "python",
   "pygments_lexer": "ipython3",
   "version": "3.8.5"
  }
 },
 "nbformat": 4,
 "nbformat_minor": 4
}
