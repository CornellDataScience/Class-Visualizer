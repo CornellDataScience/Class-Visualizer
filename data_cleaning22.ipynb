{
 "cells": [
  {
   "cell_type": "code",
   "execution_count": 1,
   "metadata": {},
   "outputs": [],
   "source": [
    "import pandas as pd"
   ]
  },
  {
   "cell_type": "code",
   "execution_count": 5,
   "metadata": {},
   "outputs": [],
   "source": [
    "data1 = pd.read_csv(\"FullerData_CUReviews.csv\")\n",
    "data2 = pd.read_csv(\"FullerData_CUReviews_FA22.csv\")"
   ]
  },
  {
   "cell_type": "code",
   "execution_count": 6,
   "metadata": {},
   "outputs": [],
   "source": [
    "data2=data2.rename(columns={\"Professor_x\": \"Professor\"})\n"
   ]
  },
  {
   "cell_type": "code",
   "execution_count": 7,
   "metadata": {},
   "outputs": [],
   "source": [
    "data1 = data1[[ 'Dept', 'Number', 'Course_Name', 'Professor',\n",
    "       'Start_Time', 'End_Time',  'Description', 'Pre/coreqs',\n",
    "        'Dept + Number', 'Median Grade', 'Semester (Ex: SP21)',\n",
    "       'Semester', 'Pre/Coreqs_Clean', 'Number_of_Ratings',\n",
    "       'Average_Rating', 'Difficulty', 'CU_Reviews_Difficulty',\n",
    "       'CU_Reviews_Rating', 'CU_Reviews_Workload']]\n",
    "data2=data2[['Dept', 'Number', 'Course_Name', 'Professor',\n",
    "       'Start_Time', 'End_Time', 'Description', 'Pre/coreqs',\n",
    "        'Dept + Number',        'Median Grade', 'Semester (Ex: SP21)', \n",
    "       'Semester', 'Pre/Coreqs_Clean',  'Number_of_Ratings',\n",
    "       'Average_Rating', 'Difficulty',  'CU_Reviews_Difficulty',\n",
    "       'CU_Reviews_Rating', 'CU_Reviews_Workload']]"
   ]
  },
  {
   "cell_type": "code",
   "execution_count": 10,
   "metadata": {},
   "outputs": [
    {
     "data": {
      "text/plain": [
       "array([ True,  True,  True,  True,  True,  True,  True,  True,  True,\n",
       "        True,  True,  True,  True,  True,  True,  True,  True,  True,\n",
       "        True])"
      ]
     },
     "execution_count": 10,
     "metadata": {},
     "output_type": "execute_result"
    }
   ],
   "source": [
    "data2.columns==data1.columns"
   ]
  },
  {
   "cell_type": "code",
   "execution_count": 12,
   "metadata": {},
   "outputs": [],
   "source": [
    "data1.to_csv(\"FullerData_CUReviews_shortened.csv\")\n",
    "data2.to_csv(\"FullerData_CUReviews_FA22_shortened.csv\")"
   ]
  },
  {
   "cell_type": "code",
   "execution_count": null,
   "metadata": {},
   "outputs": [],
   "source": []
  }
 ],
 "metadata": {
  "kernelspec": {
   "display_name": "Python 3",
   "language": "python",
   "name": "python3"
  },
  "language_info": {
   "codemirror_mode": {
    "name": "ipython",
    "version": 3
   },
   "file_extension": ".py",
   "mimetype": "text/x-python",
   "name": "python",
   "nbconvert_exporter": "python",
   "pygments_lexer": "ipython3",
   "version": "3.8.5"
  }
 },
 "nbformat": 4,
 "nbformat_minor": 4
}
